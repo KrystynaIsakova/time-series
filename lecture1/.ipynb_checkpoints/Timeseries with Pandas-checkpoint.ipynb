{
 "cells": [
  {
   "cell_type": "code",
   "execution_count": 2,
   "id": "c01c2957",
   "metadata": {},
   "outputs": [
    {
     "data": {
      "application/javascript": [
       "IPython.notebook.set_autosave_interval(0)"
      ]
     },
     "metadata": {},
     "output_type": "display_data"
    },
    {
     "name": "stdout",
     "output_type": "stream",
     "text": [
      "Autosave disabled\n"
     ]
    }
   ],
   "source": [
    "%autosave 0"
   ]
  },
  {
   "cell_type": "markdown",
   "id": "b467ec5f",
   "metadata": {},
   "source": [
    "\n",
    "Инструменты для работы с временными рядами\n",
    "===\n",
    "\n",
    "В этой части курса мы поговорим о том, как работать с типами данных, относящимися ко времени (date and time) используя numpy и pandas. \n",
    "\n",
    "Date, time in Python\n",
    "--\n",
    "\n",
    "Перед тем, как начать работать непосредственно с Pandas, давайте рассмотрим другие пакеты питона для работы с временными типаи данных. Это нужно для того, чтобы при необходимости уметь переключаться, уметь работать с разными источниками данных, правильно делать joins и так далее. \n",
    "\n",
    "\n",
    "Модуль **datetime** \n",
    "--\n"
   ]
  },
  {
   "cell_type": "code",
   "execution_count": 9,
   "id": "cabcb433",
   "metadata": {},
   "outputs": [
    {
     "data": {
      "text/plain": [
       "datetime.datetime(2021, 9, 1, 0, 0)"
      ]
     },
     "execution_count": 9,
     "metadata": {},
     "output_type": "execute_result"
    }
   ],
   "source": [
    "from datetime import datetime\n",
    "datetime(year=2021,month=9,day=1)"
   ]
  },
  {
   "cell_type": "markdown",
   "id": "19b7f275",
   "metadata": {},
   "source": [
    "С помощью dateutil можно конвертировать любой объект в date and time."
   ]
  },
  {
   "cell_type": "code",
   "execution_count": 1,
   "id": "fd7eba2b",
   "metadata": {},
   "outputs": [
    {
     "data": {
      "text/plain": [
       "datetime.datetime(2021, 9, 1, 0, 0)"
      ]
     },
     "execution_count": 1,
     "metadata": {},
     "output_type": "execute_result"
    }
   ],
   "source": [
    "from dateutil import parser\n",
    "date = parser.parse(\"1st of September, 2021\")\n",
    "date"
   ]
  },
  {
   "cell_type": "markdown",
   "id": "1b92a905",
   "metadata": {},
   "source": [
    "Удобство datetime и dateutil лежит в том, что они довольно просты и удобны в использовании, их синтаксис очень прозрачен. С их помощью можно производить любые операции, относящиеся к типу datetime. "
   ]
  },
  {
   "cell_type": "markdown",
   "id": "bab41de9",
   "metadata": {},
   "source": [
    "Numpy\n",
    "--\n",
    "При использовании больших объемов данных модули datetime и dateutil не справляются со своими задачами. По этому на базе numpy был разработан тип datetime64. Этот тип кодирует даты в 64-битные значения типа integer, что позволяет довольно компактно представлять даты и время. \n",
    "\n",
    "На входе datetime64 требует определенный формат :\n"
   ]
  },
  {
   "cell_type": "code",
   "execution_count": 2,
   "id": "eb13d9f7",
   "metadata": {},
   "outputs": [
    {
     "data": {
      "text/plain": [
       "array('2021-09-01', dtype='datetime64[D]')"
      ]
     },
     "execution_count": 2,
     "metadata": {},
     "output_type": "execute_result"
    }
   ],
   "source": [
    "import numpy as np\n",
    "date = np.array('2021-09-01',dtype=np.datetime64)\n",
    "date"
   ]
  },
  {
   "cell_type": "code",
   "execution_count": 3,
   "id": "2bc06f54",
   "metadata": {},
   "outputs": [
    {
     "data": {
      "text/plain": [
       "array(['2021-09-01', '2021-09-02', '2021-09-03', '2021-09-04',\n",
       "       '2021-09-05', '2021-09-06', '2021-09-07', '2021-09-08',\n",
       "       '2021-09-09', '2021-09-10', '2021-09-11', '2021-09-12'],\n",
       "      dtype='datetime64[D]')"
      ]
     },
     "execution_count": 3,
     "metadata": {},
     "output_type": "execute_result"
    }
   ],
   "source": [
    "date+np.arange(12)"
   ]
  },
  {
   "cell_type": "markdown",
   "id": "85fcb405",
   "metadata": {},
   "source": [
    "Numpy работает гораздо быстрее, чем встроенные функции Pandas. Недостатком этого типа является то, что он ограничен размером в 64-бита."
   ]
  },
  {
   "cell_type": "markdown",
   "id": "89b98a73",
   "metadata": {},
   "source": [
    "Структура временных рядов с Pandas\n",
    "===\n",
    "\n",
    "Pandas имеет Timestamp тип, который комбинирует в себе datetime и numpy.datetime64. Его довольно легко использовать, как и datetime, но в то же время он использует тот же принцип хранения, что и numpy.datetime64. \n",
    "\n",
    "Группу Timestamp можно использовать в качестве индекса объект Pandas. Это будет DatetimeIndex. В целом мы рассмотрим три различных типа, связанных с датами и временем:\n",
    "\n",
    "* Для временных значений наиболее удобно использовать тип **Timestamp**. По сути это замена нативного питоновского типа **datetime**, но он основан на более эффективном **numpy.datetime64**\n",
    "* Для временных периодов у Pandas есть тип **Period**. Он кодирует фиксированный интервал времени. Для индексной структуры используется **PeriodIndex**.\n",
    "* Для временных отрезков используется тип **Timedelta**, и **TimedeltaIndex** для индексирования. \n",
    "\n",
    "\n",
    "\n",
    "Наиболее распространенным является функкия **pd.to_datetime()**. Если агргументом является одна дата, то результатом будет **Timestamp**, а в случае с серией или списком - **Datetimeindex**. "
   ]
  },
  {
   "cell_type": "code",
   "execution_count": 4,
   "id": "502ba54e",
   "metadata": {},
   "outputs": [
    {
     "data": {
      "text/plain": [
       "Timestamp('2021-09-01 08:00:00')"
      ]
     },
     "execution_count": 4,
     "metadata": {},
     "output_type": "execute_result"
    }
   ],
   "source": [
    "import pandas as pd\n",
    "pd.to_datetime('2021-09-01 08:00:00')"
   ]
  },
  {
   "cell_type": "code",
   "execution_count": 5,
   "id": "2ceb2898",
   "metadata": {},
   "outputs": [
    {
     "data": {
      "text/plain": [
       "Timestamp('2021-09-01 00:00:00')"
      ]
     },
     "execution_count": 5,
     "metadata": {},
     "output_type": "execute_result"
    }
   ],
   "source": [
    "\n",
    "pd.to_datetime('9/1/2021')"
   ]
  },
  {
   "cell_type": "code",
   "execution_count": 6,
   "id": "85af6fc8",
   "metadata": {},
   "outputs": [
    {
     "data": {
      "text/plain": [
       "Timestamp('2021-09-01 00:00:00')"
      ]
     },
     "execution_count": 6,
     "metadata": {},
     "output_type": "execute_result"
    }
   ],
   "source": [
    "pd.to_datetime('1/9/2021',dayfirst=True)"
   ]
  },
  {
   "cell_type": "code",
   "execution_count": 29,
   "id": "1d7a138f",
   "metadata": {},
   "outputs": [
    {
     "data": {
      "text/plain": [
       "DatetimeIndex(['2021-09-01', '2021-01-09', '2021-09-01'], dtype='datetime64[ns]', freq=None)"
      ]
     },
     "execution_count": 29,
     "metadata": {},
     "output_type": "execute_result"
    }
   ],
   "source": [
    "pd.to_datetime(['2021-09-01','1/9/2021', 'Sep 1, 2021'])"
   ]
  },
  {
   "cell_type": "code",
   "execution_count": 30,
   "id": "60058c92",
   "metadata": {},
   "outputs": [
    {
     "data": {
      "text/plain": [
       "DatetimeIndex(['2021-09-01', '2021-09-02', '2021-09-03', '2021-09-04',\n",
       "               '2021-09-05', '2021-09-06', '2021-09-07', '2021-09-08',\n",
       "               '2021-09-09', '2021-09-10', '2021-09-11', '2021-09-12'],\n",
       "              dtype='datetime64[ns]', freq=None)"
      ]
     },
     "execution_count": 30,
     "metadata": {},
     "output_type": "execute_result"
    }
   ],
   "source": [
    "date+pd.to_timedelta(np.arange(12),'D')"
   ]
  },
  {
   "cell_type": "markdown",
   "id": "6bce8a9b",
   "metadata": {},
   "source": [
    "**DatetimeIndex** можно конвертировать в **PeriodIndex**"
   ]
  },
  {
   "cell_type": "code",
   "execution_count": 31,
   "id": "7c182290",
   "metadata": {},
   "outputs": [
    {
     "data": {
      "text/plain": [
       "DatetimeIndex(['2021-09-01', '2021-01-09', '2021-09-01'], dtype='datetime64[ns]', freq=None)"
      ]
     },
     "execution_count": 31,
     "metadata": {},
     "output_type": "execute_result"
    }
   ],
   "source": [
    "dates = pd.to_datetime(['2021-09-01','1/9/2021', 'Sep 1, 2021'])\n",
    "dates"
   ]
  },
  {
   "cell_type": "code",
   "execution_count": 32,
   "id": "6eeac06c",
   "metadata": {},
   "outputs": [
    {
     "data": {
      "text/plain": [
       "PeriodIndex(['2021-09-01', '2021-01-09', '2021-09-01'], dtype='period[D]')"
      ]
     },
     "execution_count": 32,
     "metadata": {},
     "output_type": "execute_result"
    }
   ],
   "source": [
    "dates.to_period('D')"
   ]
  },
  {
   "cell_type": "markdown",
   "id": "261137ed",
   "metadata": {},
   "source": [
    "**TimedeltaIndex** можно получить путем разности:"
   ]
  },
  {
   "cell_type": "code",
   "execution_count": 33,
   "id": "b6c1eddc",
   "metadata": {},
   "outputs": [
    {
     "data": {
      "text/plain": [
       "TimedeltaIndex(['0 days', '-235 days', '0 days'], dtype='timedelta64[ns]', freq=None)"
      ]
     },
     "execution_count": 33,
     "metadata": {},
     "output_type": "execute_result"
    }
   ],
   "source": [
    "dates-dates[0]"
   ]
  },
  {
   "cell_type": "markdown",
   "id": "c09ac395",
   "metadata": {},
   "source": [
    "Indexing by time\n",
    "---\n",
    "\n",
    "Когда мы используем Pandas в работе с временными рядами, одной из самых удобных фичей является индексирование серии по времени. "
   ]
  },
  {
   "cell_type": "code",
   "execution_count": 72,
   "id": "c33a5daa",
   "metadata": {},
   "outputs": [
    {
     "data": {
      "text/plain": [
       "2021-01-01    0\n",
       "2021-01-02    1\n",
       "2021-01-03    2\n",
       "2021-01-04    3\n",
       "dtype: int64"
      ]
     },
     "execution_count": 72,
     "metadata": {},
     "output_type": "execute_result"
    }
   ],
   "source": [
    "index = pd.DatetimeIndex(['2021-01-01','2021-01-02','2021-01-03','2021-01-04'])\n",
    "data = pd.Series([0,1,2,3],index=index)\n",
    "data"
   ]
  },
  {
   "cell_type": "code",
   "execution_count": 73,
   "id": "880258b2",
   "metadata": {},
   "outputs": [
    {
     "data": {
      "text/plain": [
       "2021-01-02    1\n",
       "2021-01-03    2\n",
       "2021-01-04    3\n",
       "dtype: int64"
      ]
     },
     "execution_count": 73,
     "metadata": {},
     "output_type": "execute_result"
    }
   ],
   "source": [
    "data['2021-01-02':'2021-01-04']"
   ]
  },
  {
   "cell_type": "code",
   "execution_count": 74,
   "id": "7da1558b",
   "metadata": {},
   "outputs": [
    {
     "data": {
      "text/plain": [
       "0"
      ]
     },
     "execution_count": 74,
     "metadata": {},
     "output_type": "execute_result"
    }
   ],
   "source": [
    "data['2021-01-01']"
   ]
  },
  {
   "cell_type": "markdown",
   "id": "25a42faa",
   "metadata": {},
   "source": [
    "Pandas date_range()\n",
    "===\n",
    "При необходимости создания временной серии с равным временным интервалом можно вопользоваться функцией **date_range()**\n",
    "задав при этом начало и конец серии:"
   ]
  },
  {
   "cell_type": "code",
   "execution_count": 36,
   "id": "fb8f1515",
   "metadata": {},
   "outputs": [
    {
     "data": {
      "text/plain": [
       "DatetimeIndex(['2021-09-01', '2021-09-02', '2021-09-03', '2021-09-04',\n",
       "               '2021-09-05', '2021-09-06', '2021-09-07', '2021-09-08',\n",
       "               '2021-09-09', '2021-09-10', '2021-09-11', '2021-09-12',\n",
       "               '2021-09-13', '2021-09-14', '2021-09-15'],\n",
       "              dtype='datetime64[ns]', freq='D')"
      ]
     },
     "execution_count": 36,
     "metadata": {},
     "output_type": "execute_result"
    }
   ],
   "source": [
    "pd.date_range(start='2021-09-01',\n",
    "              end='2021-09-15')"
   ]
  },
  {
   "cell_type": "markdown",
   "id": "cbb437d9",
   "metadata": {},
   "source": [
    "Можно так же задать начальную точку и количество периодов:"
   ]
  },
  {
   "cell_type": "code",
   "execution_count": 39,
   "id": "e508c015",
   "metadata": {},
   "outputs": [
    {
     "data": {
      "text/plain": [
       "DatetimeIndex(['2021-09-01', '2021-09-02', '2021-09-03', '2021-09-04',\n",
       "               '2021-09-05', '2021-09-06', '2021-09-07', '2021-09-08',\n",
       "               '2021-09-09', '2021-09-10', '2021-09-11', '2021-09-12',\n",
       "               '2021-09-13', '2021-09-14', '2021-09-15'],\n",
       "              dtype='datetime64[ns]', freq='D')"
      ]
     },
     "execution_count": 39,
     "metadata": {},
     "output_type": "execute_result"
    }
   ],
   "source": [
    "pd.date_range(start='2021-09-01',\n",
    "              periods=15)"
   ]
  },
  {
   "cell_type": "markdown",
   "id": "a0bcd13b",
   "metadata": {},
   "source": [
    "Так же можно задать частоту последовательности. Например, мы хотим последовательность, которая начинается с 2021-09-01, имеет длинну  15 дней и события регистрируются каждый час:"
   ]
  },
  {
   "cell_type": "code",
   "execution_count": 41,
   "id": "21a7425e",
   "metadata": {},
   "outputs": [
    {
     "data": {
      "text/plain": [
       "DatetimeIndex(['2021-09-01 00:00:00', '2021-09-01 01:00:00',\n",
       "               '2021-09-01 02:00:00', '2021-09-01 03:00:00',\n",
       "               '2021-09-01 04:00:00', '2021-09-01 05:00:00',\n",
       "               '2021-09-01 06:00:00', '2021-09-01 07:00:00',\n",
       "               '2021-09-01 08:00:00', '2021-09-01 09:00:00',\n",
       "               '2021-09-01 10:00:00', '2021-09-01 11:00:00',\n",
       "               '2021-09-01 12:00:00', '2021-09-01 13:00:00',\n",
       "               '2021-09-01 14:00:00'],\n",
       "              dtype='datetime64[ns]', freq='H')"
      ]
     },
     "execution_count": 41,
     "metadata": {},
     "output_type": "execute_result"
    }
   ],
   "source": [
    "pd.date_range(start='2021-09-01',\n",
    "              periods=15,\n",
    "             freq='H')"
   ]
  },
  {
   "cell_type": "markdown",
   "id": "238f2a52",
   "metadata": {},
   "source": [
    "Мы таже можем создать последовательность из периодов:"
   ]
  },
  {
   "cell_type": "code",
   "execution_count": 43,
   "id": "a72df601",
   "metadata": {},
   "outputs": [
    {
     "data": {
      "text/plain": [
       "PeriodIndex(['2021-09', '2021-10', '2021-11', '2021-12', '2022-01'], dtype='period[M]')"
      ]
     },
     "execution_count": 43,
     "metadata": {},
     "output_type": "execute_result"
    }
   ],
   "source": [
    "pd.period_range(start='2021-09-01',\n",
    "               periods=5,\n",
    "               freq='M')"
   ]
  },
  {
   "cell_type": "markdown",
   "id": "d0354ccf",
   "metadata": {},
   "source": [
    "И из Timedelta:"
   ]
  },
  {
   "cell_type": "code",
   "execution_count": 44,
   "id": "982d1c7e",
   "metadata": {},
   "outputs": [
    {
     "data": {
      "text/plain": [
       "TimedeltaIndex(['0 days 00:00:00', '0 days 01:00:00', '0 days 02:00:00',\n",
       "                '0 days 03:00:00', '0 days 04:00:00', '0 days 05:00:00',\n",
       "                '0 days 06:00:00', '0 days 07:00:00', '0 days 08:00:00',\n",
       "                '0 days 09:00:00'],\n",
       "               dtype='timedelta64[ns]', freq='H')"
      ]
     },
     "execution_count": 44,
     "metadata": {},
     "output_type": "execute_result"
    }
   ],
   "source": [
    "pd.timedelta_range(start=0,\n",
    "                  periods=10,\n",
    "                  freq='H')"
   ]
  },
  {
   "cell_type": "markdown",
   "id": "2600323a",
   "metadata": {},
   "source": [
    "Частоты (frequencies) во временных рядах\n",
    "==\n",
    "\n",
    "Выше мы уже видели, как используется параметер **freq**, обозначающий частоту, в создании временного ряда. Как мы видели, с помощью различных кодов можно задать нужную частосту, например, **H** для часового интервала, **D** для дневного и так далее. \n",
    "\n",
    "Частоты длинной в месяц, квартал или год задают конец данного периода:"
   ]
  },
  {
   "cell_type": "code",
   "execution_count": 46,
   "id": "536ed236",
   "metadata": {},
   "outputs": [
    {
     "data": {
      "text/plain": [
       "DatetimeIndex(['2021-09-30', '2021-10-31', '2021-11-30', '2021-12-31'], dtype='datetime64[ns]', freq='M')"
      ]
     },
     "execution_count": 46,
     "metadata": {},
     "output_type": "execute_result"
    }
   ],
   "source": [
    "pd.date_range(start='2021-09-01',\n",
    "             periods=4,\n",
    "             freq='M')"
   ]
  },
  {
   "cell_type": "markdown",
   "id": "99ec4d37",
   "metadata": {},
   "source": [
    "Если мы хотим использовать начало временного периода, то в конец флага нужно добавить букву S:"
   ]
  },
  {
   "cell_type": "code",
   "execution_count": 47,
   "id": "919ec5e9",
   "metadata": {},
   "outputs": [
    {
     "data": {
      "text/plain": [
       "DatetimeIndex(['2021-09-01', '2021-10-01', '2021-11-01', '2021-12-01'], dtype='datetime64[ns]', freq='MS')"
      ]
     },
     "execution_count": 47,
     "metadata": {},
     "output_type": "execute_result"
    }
   ],
   "source": [
    "pd.date_range(start='2021-09-01',\n",
    "             periods=4,\n",
    "             freq='MS')"
   ]
  },
  {
   "cell_type": "markdown",
   "id": "16118d7e",
   "metadata": {},
   "source": [
    "Так же можно указать месяц, используемый для обозначения квартального или годового кода следующим образом:\n",
    "* Q-JAN\n",
    "* A-FEB\n",
    "\n",
    "Тоже самое можно сделать и с недельным сплитом:\n",
    "* W-WED"
   ]
  },
  {
   "cell_type": "code",
   "execution_count": 56,
   "id": "24842d36",
   "metadata": {},
   "outputs": [
    {
     "data": {
      "text/plain": [
       "DatetimeIndex(['2021-09-05', '2021-09-12'], dtype='datetime64[ns]', freq='W-SUN')"
      ]
     },
     "execution_count": 56,
     "metadata": {},
     "output_type": "execute_result"
    }
   ],
   "source": [
    "# недельная частота \n",
    "pd.date_range(start='2021-09-01',\n",
    "             periods=2,\n",
    "             freq='W')"
   ]
  },
  {
   "cell_type": "code",
   "execution_count": 59,
   "id": "345dae64",
   "metadata": {},
   "outputs": [
    {
     "data": {
      "text/plain": [
       "DatetimeIndex(['2021-09-01', '2021-09-08'], dtype='datetime64[ns]', freq='W-WED')"
      ]
     },
     "execution_count": 59,
     "metadata": {},
     "output_type": "execute_result"
    }
   ],
   "source": [
    "# недельная частота с разделением по средам\n",
    "pd.date_range(start='2021-09-01',\n",
    "             periods=2,\n",
    "             freq='W-WED')"
   ]
  },
  {
   "cell_type": "code",
   "execution_count": 61,
   "id": "82b55c03",
   "metadata": {},
   "outputs": [
    {
     "data": {
      "text/plain": [
       "DatetimeIndex(['2021-09-06', '2021-09-13'], dtype='datetime64[ns]', freq='W-MON')"
      ]
     },
     "execution_count": 61,
     "metadata": {},
     "output_type": "execute_result"
    }
   ],
   "source": [
    "# недельная частота с разделением по понедельникам\n",
    "pd.date_range(start='2021-09-01',\n",
    "             periods=2,\n",
    "             freq='W-MON')"
   ]
  },
  {
   "cell_type": "markdown",
   "id": "b76f8e85",
   "metadata": {},
   "source": [
    "Так же к коду можно добавлять число для опеределения размера интервала."
   ]
  },
  {
   "cell_type": "code",
   "execution_count": 70,
   "id": "12510eff",
   "metadata": {},
   "outputs": [
    {
     "data": {
      "text/plain": [
       "DatetimeIndex(['2021-09-01 00:00:00', '2021-09-01 02:00:00'], dtype='datetime64[ns]', freq='2H')"
      ]
     },
     "execution_count": 70,
     "metadata": {},
     "output_type": "execute_result"
    }
   ],
   "source": [
    "\n",
    "pd.date_range(start='2021-09-01',\n",
    "             periods=2,\n",
    "             freq='2H')"
   ]
  },
  {
   "cell_type": "code",
   "execution_count": 71,
   "id": "2db996eb",
   "metadata": {},
   "outputs": [
    {
     "data": {
      "text/plain": [
       "DatetimeIndex(['2021-09-01 00:00:00', '2021-09-01 02:30:00'], dtype='datetime64[ns]', freq='150T')"
      ]
     },
     "execution_count": 71,
     "metadata": {},
     "output_type": "execute_result"
    }
   ],
   "source": [
    "\n",
    "pd.date_range(start='2021-09-01',\n",
    "             periods=2,\n",
    "             freq='2H30T')"
   ]
  },
  {
   "cell_type": "code",
   "execution_count": null,
   "id": "9e289a7c",
   "metadata": {},
   "outputs": [],
   "source": []
  }
 ],
 "metadata": {
  "kernelspec": {
   "display_name": "Python 3",
   "language": "python",
   "name": "python3"
  },
  "language_info": {
   "codemirror_mode": {
    "name": "ipython",
    "version": 3
   },
   "file_extension": ".py",
   "mimetype": "text/x-python",
   "name": "python",
   "nbconvert_exporter": "python",
   "pygments_lexer": "ipython3",
   "version": "3.7.2"
  }
 },
 "nbformat": 4,
 "nbformat_minor": 5
}
